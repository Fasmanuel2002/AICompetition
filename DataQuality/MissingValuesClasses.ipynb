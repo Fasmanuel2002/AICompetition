{
 "cells": [
  {
   "cell_type": "code",
   "execution_count": 1,
   "id": "2128fb8d-9d9a-45e9-acd9-e6fad8036cd2",
   "metadata": {},
   "outputs": [
    {
     "data": {
      "text/html": [
       "\n",
       "            <div>\n",
       "                <ins><a href=\"https://ydata.ai/register\">Upgrade to ydata-sdk</a></ins>\n",
       "                <p>\n",
       "                    Improve your data and profiling with ydata-sdk, featuring data quality scoring, redundancy detection, outlier identification, text validation, and synthetic data generation.\n",
       "                </p>\n",
       "            </div>\n",
       "            "
      ],
      "text/plain": [
       "<IPython.core.display.HTML object>"
      ]
     },
     "metadata": {},
     "output_type": "display_data"
    }
   ],
   "source": [
    "import pandas as pd\n",
    "import numpy as np\n",
    "import matplotlib\n",
    "from ydata_profiling import ProfileReport"
   ]
  },
  {
   "cell_type": "code",
   "execution_count": 2,
   "id": "26188960-d6ec-4db6-b21f-d0bf6d52aa8e",
   "metadata": {},
   "outputs": [],
   "source": [
    "df = pd.read_csv(\"train.csv\")"
   ]
  },
  {
   "cell_type": "code",
   "execution_count": 10,
   "id": "b61e2e00-aca8-42cd-8a81-390b59f3e8cf",
   "metadata": {},
   "outputs": [],
   "source": [
    "df_gestures = df.set_index(\"gesture\")"
   ]
  },
  {
   "cell_type": "code",
   "execution_count": 13,
   "id": "457369bf-640b-48a0-a6cf-e27214d4bec3",
   "metadata": {},
   "outputs": [
    {
     "ename": "AttributeError",
     "evalue": "'DataFrame' object has no attribute 'unique'",
     "output_type": "error",
     "traceback": [
      "\u001b[31m---------------------------------------------------------------------------\u001b[39m",
      "\u001b[31mAttributeError\u001b[39m                            Traceback (most recent call last)",
      "\u001b[32m/tmp/ipykernel_1506/1996676168.py\u001b[39m in \u001b[36m?\u001b[39m\u001b[34m()\u001b[39m\n\u001b[32m----> \u001b[39m\u001b[32m1\u001b[39m df_gestures.unique()\n",
      "\u001b[32m/opt/conda/lib/python3.12/site-packages/pandas/core/generic.py\u001b[39m in \u001b[36m?\u001b[39m\u001b[34m(self, name)\u001b[39m\n\u001b[32m   6295\u001b[39m             \u001b[38;5;28;01mand\u001b[39;00m name \u001b[38;5;28;01mnot\u001b[39;00m \u001b[38;5;28;01min\u001b[39;00m self._accessors\n\u001b[32m   6296\u001b[39m             \u001b[38;5;28;01mand\u001b[39;00m self._info_axis._can_hold_identifiers_and_holds_name(name)\n\u001b[32m   6297\u001b[39m         ):\n\u001b[32m   6298\u001b[39m             \u001b[38;5;28;01mreturn\u001b[39;00m self[name]\n\u001b[32m-> \u001b[39m\u001b[32m6299\u001b[39m         \u001b[38;5;28;01mreturn\u001b[39;00m object.__getattribute__(self, name)\n",
      "\u001b[31mAttributeError\u001b[39m: 'DataFrame' object has no attribute 'unique'"
     ]
    }
   ],
   "source": [
    "df_gestures.unique()"
   ]
  },
  {
   "cell_type": "code",
   "execution_count": 39,
   "id": "b043796b-2aac-4eb2-9ae6-8d273192977b",
   "metadata": {},
   "outputs": [
    {
     "name": "stdout",
     "output_type": "stream",
     "text": [
      "This is are the Nan Counts gesture\n",
      "Above ear - pull hair                         260952\n",
      "Cheek - pinch skin                            213630\n",
      "Drink from bottle/cup                          80080\n",
      "Eyebrow - pull hair                           281289\n",
      "Eyelash - pull hair                           266340\n",
      "Feel around in tray and pull out an object    132405\n",
      "Forehead - pull hairline                      250928\n",
      "Forehead - scratch                            258807\n",
      "Glasses on/off                                 88270\n",
      "Neck - pinch skin                             219891\n",
      "Neck - scratch                                259257\n",
      "Pinch knee/leg skin                            70238\n",
      "Pull air toward your face                     217011\n",
      "Scratch knee/leg skin                          81773\n",
      "Text on phone                                 370485\n",
      "Wave hello                                    254398\n",
      "Write name in air                             217826\n",
      "Write name on leg                              74227\n",
      "dtype: int64\n"
     ]
    },
    {
     "name": "stderr",
     "output_type": "stream",
     "text": [
      "/tmp/ipykernel_1506/211048457.py:1: DeprecationWarning: DataFrameGroupBy.apply operated on the grouping columns. This behavior is deprecated, and in a future version of pandas the grouping columns will be excluded from the operation. Either pass `include_groups=False` to exclude the groupings or explicitly select the grouping columns after groupby to silence this warning.\n",
      "  nan_counts = df.groupby(\"gesture\").apply(lambda x: x.isnull().sum().sum())\n"
     ]
    }
   ],
   "source": [
    "nan_counts = df.groupby(\"gesture\").apply(lambda x: x.isnull().sum().sum())\n",
    "print(f\"This is are the Nan Counts {nan_counts}\")\n"
   ]
  },
  {
   "cell_type": "code",
   "execution_count": 40,
   "id": "b5d609e3-d193-4f99-bf6d-cae1c3349ccd",
   "metadata": {},
   "outputs": [],
   "source": [
    "total_count_of_classes = df.groupby(\"gesture\").size()\n",
    "total_sum_classes = total_count_of_classes.sum()"
   ]
  },
  {
   "cell_type": "code",
   "execution_count": 43,
   "id": "ec1a109e-9aa5-452d-b195-294d88a6b873",
   "metadata": {},
   "outputs": [
    {
     "name": "stdout",
     "output_type": "stream",
     "text": [
      "1.57% missing in gesture: Cheek - pinch skin\n",
      "1.81% missing in gesture: Forehead - pull hairline\n",
      "2.15% missing in gesture: Write name on leg\n",
      "2.28% missing in gesture: Feel around in tray and pull out an object\n",
      "1.35% missing in gesture: Neck - scratch\n",
      "1.60% missing in gesture: Neck - pinch skin\n",
      "1.95% missing in gesture: Eyelash - pull hair\n",
      "1.87% missing in gesture: Eyebrow - pull hair\n",
      "1.86% missing in gesture: Forehead - scratch\n",
      "1.89% missing in gesture: Above ear - pull hair\n",
      "2.18% missing in gesture: Wave hello\n",
      "2.05% missing in gesture: Write name in air\n",
      "1.86% missing in gesture: Text on phone\n",
      "2.08% missing in gesture: Pull air toward your face\n",
      "2.10% missing in gesture: Pinch knee/leg skin\n",
      "1.95% missing in gesture: Scratch knee/leg skin\n",
      "1.80% missing in gesture: Drink from bottle/cup\n",
      "1.92% missing in gesture: Glasses on/off\n"
     ]
    }
   ],
   "source": [
    "gestures = df[\"gesture\"].unique()\n",
    "\n",
    "for g in gestures:\n",
    "    df_g = df[df[\"gesture\"] == g]\n",
    "\n",
    "    columns_to_check = [col for col in df.columns if col != \"gesture\"]\n",
    "\n",
    "    total_size = df_g[columns_to_check].size\n",
    "    total_nulls = df_g[columns_to_check].isnull().sum().sum()\n",
    "\n",
    "    percent_missing = (total_nulls / total_size) * 100\n",
    "\n",
    "    print(f\"{percent_missing:.2f}% missing in gesture: {g}\")"
   ]
  },
  {
   "cell_type": "code",
   "execution_count": null,
   "id": "51a172f8-f28f-4ded-892d-1b2c815f8d69",
   "metadata": {},
   "outputs": [],
   "source": []
  }
 ],
 "metadata": {
  "kernelspec": {
   "display_name": "Python 3 (ipykernel)",
   "language": "python",
   "name": "python3"
  },
  "language_info": {
   "codemirror_mode": {
    "name": "ipython",
    "version": 3
   },
   "file_extension": ".py",
   "mimetype": "text/x-python",
   "name": "python",
   "nbconvert_exporter": "python",
   "pygments_lexer": "ipython3",
   "version": "3.12.10"
  }
 },
 "nbformat": 4,
 "nbformat_minor": 5
}
