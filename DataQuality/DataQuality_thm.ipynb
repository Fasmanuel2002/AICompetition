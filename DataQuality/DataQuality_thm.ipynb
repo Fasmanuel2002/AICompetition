{
 "cells": [
  {
   "cell_type": "code",
   "execution_count": 1,
   "id": "50415345-a60f-4185-9a9c-9ae361782c25",
   "metadata": {},
   "outputs": [
    {
     "data": {
      "text/html": [
       "\n",
       "            <div>\n",
       "                <ins><a href=\"https://ydata.ai/register\">Upgrade to ydata-sdk</a></ins>\n",
       "                <p>\n",
       "                    Improve your data and profiling with ydata-sdk, featuring data quality scoring, redundancy detection, outlier identification, text validation, and synthetic data generation.\n",
       "                </p>\n",
       "            </div>\n",
       "            "
      ],
      "text/plain": [
       "<IPython.core.display.HTML object>"
      ]
     },
     "metadata": {},
     "output_type": "display_data"
    }
   ],
   "source": [
    "import pandas as pd\n",
    "import numpy as np\n",
    "import matplotlib\n",
    "from ydata_profiling import ProfileReport"
   ]
  },
  {
   "cell_type": "code",
   "execution_count": 2,
   "id": "8bec0fe6-919f-4b28-9e7c-1cc5767327ef",
   "metadata": {},
   "outputs": [],
   "source": [
    "df = pd.read_csv(\"train.csv\")"
   ]
  },
  {
   "cell_type": "code",
   "execution_count": 3,
   "id": "c103b918-4ba2-43dd-a7b6-eef5e20d5eb4",
   "metadata": {},
   "outputs": [
    {
     "name": "stdout",
     "output_type": "stream",
     "text": [
      "['thm_1', 'thm_2', 'thm_3', 'thm_4', 'thm_5']\n"
     ]
    }
   ],
   "source": [
    "columns_thm = [column for column in df.columns if column.startswith(\"thm_\")]\n",
    "print(columns_thm)"
   ]
  },
  {
   "cell_type": "code",
   "execution_count": 5,
   "id": "5336f886-6a2c-4c51-a7f5-bd90952e6c89",
   "metadata": {},
   "outputs": [
    {
     "name": "stderr",
     "output_type": "stream",
     "text": [
      "/opt/conda/lib/python3.12/site-packages/ydata_profiling/utils/dataframe.py:137: SettingWithCopyWarning: \n",
      "A value is trying to be set on a copy of a slice from a DataFrame\n",
      "\n",
      "See the caveats in the documentation: https://pandas.pydata.org/pandas-docs/stable/user_guide/indexing.html#returning-a-view-versus-a-copy\n",
      "  df.rename(columns={\"index\": \"df_index\"}, inplace=True)\n"
     ]
    },
    {
     "data": {
      "application/vnd.jupyter.widget-view+json": {
       "model_id": "56af8f3811a34565b6d53852fbccfd01",
       "version_major": 2,
       "version_minor": 0
      },
      "text/plain": [
       "Summarize dataset:   0%|          | 0/5 [00:00<?, ?it/s]"
      ]
     },
     "metadata": {},
     "output_type": "display_data"
    },
    {
     "name": "stderr",
     "output_type": "stream",
     "text": [
      "\n",
      "  0%|          | 0/5 [00:00<?, ?it/s]\u001b[A\n",
      "100%|██████████| 5/5 [00:03<00:00,  1.35it/s]\u001b[A\n"
     ]
    },
    {
     "data": {
      "application/vnd.jupyter.widget-view+json": {
       "model_id": "5cac0ffd84d64f86887d99f37e9e3c4d",
       "version_major": 2,
       "version_minor": 0
      },
      "text/plain": [
       "Generate report structure:   0%|          | 0/1 [00:00<?, ?it/s]"
      ]
     },
     "metadata": {},
     "output_type": "display_data"
    },
    {
     "data": {
      "application/vnd.jupyter.widget-view+json": {
       "model_id": "496dc7d5ffdf489c9c4c47ee2c208cd1",
       "version_major": 2,
       "version_minor": 0
      },
      "text/plain": [
       "Render HTML:   0%|          | 0/1 [00:00<?, ?it/s]"
      ]
     },
     "metadata": {},
     "output_type": "display_data"
    },
    {
     "name": "stderr",
     "output_type": "stream",
     "text": [
      "/opt/conda/lib/python3.12/site-packages/ydata_profiling/profile_report.py:386: UserWarning: Extension  not supported. For now we assume .html was intended. To remove this warning, please use .html or .json.\n",
      "  warnings.warn(\n"
     ]
    },
    {
     "data": {
      "application/vnd.jupyter.widget-view+json": {
       "model_id": "d24d998c65224afb8fd2d1a11fde3cee",
       "version_major": 2,
       "version_minor": 0
      },
      "text/plain": [
       "Export report to file:   0%|          | 0/1 [00:00<?, ?it/s]"
      ]
     },
     "metadata": {},
     "output_type": "display_data"
    }
   ],
   "source": [
    "profile_thm = ProfileReport(df[columns_thm], title=\"DataQuality_Thermopile_sensors\", explorative=True)\n",
    "profile_thm.to_file(\"data_quality_thermopiles\")"
   ]
  },
  {
   "cell_type": "code",
   "execution_count": 7,
   "id": "b80e7ebf-9dc2-4843-8ac7-c2aa10439695",
   "metadata": {},
   "outputs": [
    {
     "data": {
      "text/html": [
       "<div>\n",
       "<style scoped>\n",
       "    .dataframe tbody tr th:only-of-type {\n",
       "        vertical-align: middle;\n",
       "    }\n",
       "\n",
       "    .dataframe tbody tr th {\n",
       "        vertical-align: top;\n",
       "    }\n",
       "\n",
       "    .dataframe thead th {\n",
       "        text-align: right;\n",
       "    }\n",
       "</style>\n",
       "<table border=\"1\" class=\"dataframe\">\n",
       "  <thead>\n",
       "    <tr style=\"text-align: right;\">\n",
       "      <th></th>\n",
       "      <th>thm_1</th>\n",
       "      <th>thm_2</th>\n",
       "      <th>thm_3</th>\n",
       "      <th>thm_4</th>\n",
       "      <th>thm_5</th>\n",
       "    </tr>\n",
       "  </thead>\n",
       "  <tbody>\n",
       "    <tr>\n",
       "      <th>1503</th>\n",
       "      <td>23.961725</td>\n",
       "      <td>24.339029</td>\n",
       "      <td>24.206232</td>\n",
       "      <td>24.429810</td>\n",
       "      <td>NaN</td>\n",
       "    </tr>\n",
       "    <tr>\n",
       "      <th>1504</th>\n",
       "      <td>23.969862</td>\n",
       "      <td>24.388336</td>\n",
       "      <td>24.263811</td>\n",
       "      <td>24.386974</td>\n",
       "      <td>NaN</td>\n",
       "    </tr>\n",
       "    <tr>\n",
       "      <th>1505</th>\n",
       "      <td>23.943760</td>\n",
       "      <td>24.428949</td>\n",
       "      <td>24.127512</td>\n",
       "      <td>24.437759</td>\n",
       "      <td>NaN</td>\n",
       "    </tr>\n",
       "    <tr>\n",
       "      <th>1506</th>\n",
       "      <td>24.007992</td>\n",
       "      <td>24.486542</td>\n",
       "      <td>24.168850</td>\n",
       "      <td>24.424473</td>\n",
       "      <td>NaN</td>\n",
       "    </tr>\n",
       "    <tr>\n",
       "      <th>1507</th>\n",
       "      <td>23.960375</td>\n",
       "      <td>24.441458</td>\n",
       "      <td>24.251478</td>\n",
       "      <td>24.390303</td>\n",
       "      <td>NaN</td>\n",
       "    </tr>\n",
       "    <tr>\n",
       "      <th>...</th>\n",
       "      <td>...</td>\n",
       "      <td>...</td>\n",
       "      <td>...</td>\n",
       "      <td>...</td>\n",
       "      <td>...</td>\n",
       "    </tr>\n",
       "    <tr>\n",
       "      <th>574008</th>\n",
       "      <td>29.755951</td>\n",
       "      <td>31.211893</td>\n",
       "      <td>29.419098</td>\n",
       "      <td>29.898146</td>\n",
       "      <td>NaN</td>\n",
       "    </tr>\n",
       "    <tr>\n",
       "      <th>574009</th>\n",
       "      <td>29.423683</td>\n",
       "      <td>30.142382</td>\n",
       "      <td>29.304581</td>\n",
       "      <td>29.870035</td>\n",
       "      <td>NaN</td>\n",
       "    </tr>\n",
       "    <tr>\n",
       "      <th>574010</th>\n",
       "      <td>29.477192</td>\n",
       "      <td>30.492275</td>\n",
       "      <td>28.746401</td>\n",
       "      <td>30.064381</td>\n",
       "      <td>NaN</td>\n",
       "    </tr>\n",
       "    <tr>\n",
       "      <th>574011</th>\n",
       "      <td>29.690022</td>\n",
       "      <td>30.813923</td>\n",
       "      <td>28.897079</td>\n",
       "      <td>30.281929</td>\n",
       "      <td>NaN</td>\n",
       "    </tr>\n",
       "    <tr>\n",
       "      <th>574012</th>\n",
       "      <td>29.620619</td>\n",
       "      <td>30.821753</td>\n",
       "      <td>28.750284</td>\n",
       "      <td>30.132832</td>\n",
       "      <td>NaN</td>\n",
       "    </tr>\n",
       "  </tbody>\n",
       "</table>\n",
       "<p>34948 rows × 5 columns</p>\n",
       "</div>"
      ],
      "text/plain": [
       "            thm_1      thm_2      thm_3      thm_4  thm_5\n",
       "1503    23.961725  24.339029  24.206232  24.429810    NaN\n",
       "1504    23.969862  24.388336  24.263811  24.386974    NaN\n",
       "1505    23.943760  24.428949  24.127512  24.437759    NaN\n",
       "1506    24.007992  24.486542  24.168850  24.424473    NaN\n",
       "1507    23.960375  24.441458  24.251478  24.390303    NaN\n",
       "...           ...        ...        ...        ...    ...\n",
       "574008  29.755951  31.211893  29.419098  29.898146    NaN\n",
       "574009  29.423683  30.142382  29.304581  29.870035    NaN\n",
       "574010  29.477192  30.492275  28.746401  30.064381    NaN\n",
       "574011  29.690022  30.813923  28.897079  30.281929    NaN\n",
       "574012  29.620619  30.821753  28.750284  30.132832    NaN\n",
       "\n",
       "[34948 rows x 5 columns]"
      ]
     },
     "execution_count": 7,
     "metadata": {},
     "output_type": "execute_result"
    }
   ],
   "source": [
    "df[columns_thm][df[columns_thm].isnull().any(axis=1)]"
   ]
  },
  {
   "cell_type": "code",
   "execution_count": null,
   "id": "daba5188-84bc-446a-9126-f11fc2c15f4e",
   "metadata": {},
   "outputs": [],
   "source": []
  }
 ],
 "metadata": {
  "kernelspec": {
   "display_name": "Python 3 (ipykernel)",
   "language": "python",
   "name": "python3"
  },
  "language_info": {
   "codemirror_mode": {
    "name": "ipython",
    "version": 3
   },
   "file_extension": ".py",
   "mimetype": "text/x-python",
   "name": "python",
   "nbconvert_exporter": "python",
   "pygments_lexer": "ipython3",
   "version": "3.12.10"
  }
 },
 "nbformat": 4,
 "nbformat_minor": 5
}
