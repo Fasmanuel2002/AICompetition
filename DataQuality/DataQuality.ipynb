{
 "cells": [
  {
   "cell_type": "code",
   "execution_count": 3,
   "id": "9a070615-8ab8-4ac1-bebc-c4d9438fef76",
   "metadata": {},
   "outputs": [],
   "source": [
    "import seaborn as sns\n",
    "import pandas as pd\n",
    "import numpy as np\n",
    "import matplotlib\n",
    "from ydata_profiling import ProfileReport"
   ]
  },
  {
   "cell_type": "code",
   "execution_count": 4,
   "id": "fac05552-bdc1-44c5-a5a7-46b47982a2a6",
   "metadata": {},
   "outputs": [],
   "source": [
    "df = pd.read_csv(\"train.csv\")"
   ]
  },
  {
   "cell_type": "code",
   "execution_count": 7,
   "id": "6400b581-926e-43ac-a245-545c4681b13f",
   "metadata": {},
   "outputs": [],
   "source": [
    "df = df.iloc[:, 0:9]"
   ]
  },
  {
   "cell_type": "code",
   "execution_count": 8,
   "id": "40628b21-29eb-419e-8031-38fcfc64f911",
   "metadata": {},
   "outputs": [
    {
     "name": "stdout",
     "output_type": "stream",
     "text": [
      "  sequence_type sequence_id  sequence_counter      subject  \\\n",
      "0        Target  SEQ_000007                 0  SUBJ_059520   \n",
      "1        Target  SEQ_000007                 1  SUBJ_059520   \n",
      "2        Target  SEQ_000007                 2  SUBJ_059520   \n",
      "3        Target  SEQ_000007                 3  SUBJ_059520   \n",
      "4        Target  SEQ_000007                 4  SUBJ_059520   \n",
      "\n",
      "                       orientation                                   behavior  \\\n",
      "0  Seated Lean Non Dom - FACE DOWN  Relaxes and moves hand to target location   \n",
      "1  Seated Lean Non Dom - FACE DOWN  Relaxes and moves hand to target location   \n",
      "2  Seated Lean Non Dom - FACE DOWN  Relaxes and moves hand to target location   \n",
      "3  Seated Lean Non Dom - FACE DOWN  Relaxes and moves hand to target location   \n",
      "4  Seated Lean Non Dom - FACE DOWN  Relaxes and moves hand to target location   \n",
      "\n",
      "        phase             gesture  \n",
      "0  Transition  Cheek - pinch skin  \n",
      "1  Transition  Cheek - pinch skin  \n",
      "2  Transition  Cheek - pinch skin  \n",
      "3  Transition  Cheek - pinch skin  \n",
      "4  Transition  Cheek - pinch skin  \n"
     ]
    }
   ],
   "source": [
    "print(df.head())"
   ]
  },
  {
   "cell_type": "code",
   "execution_count": 10,
   "id": "26d5033b-f63e-418e-bfb7-88202b349d0a",
   "metadata": {},
   "outputs": [
    {
     "data": {
      "application/vnd.jupyter.widget-view+json": {
       "model_id": "6eecb73437ac4679a5506343b0ac8990",
       "version_major": 2,
       "version_minor": 0
      },
      "text/plain": [
       "Summarize dataset:   0%|          | 0/5 [00:00<?, ?it/s]"
      ]
     },
     "metadata": {},
     "output_type": "display_data"
    },
    {
     "name": "stderr",
     "output_type": "stream",
     "text": [
      "\n",
      "  0%|          | 0/8 [00:00<?, ?it/s]\u001b[A\n",
      " 12%|█▎        | 1/8 [00:01<00:09,  1.37s/it]\u001b[A\n",
      "100%|██████████| 8/8 [00:03<00:00,  2.18it/s]\u001b[A\n"
     ]
    },
    {
     "data": {
      "application/vnd.jupyter.widget-view+json": {
       "model_id": "df6c527ba3eb4d71b2c448ed37e82eca",
       "version_major": 2,
       "version_minor": 0
      },
      "text/plain": [
       "Generate report structure:   0%|          | 0/1 [00:00<?, ?it/s]"
      ]
     },
     "metadata": {},
     "output_type": "display_data"
    },
    {
     "data": {
      "application/vnd.jupyter.widget-view+json": {
       "model_id": "859cccb9ab5842a78586b43a3b7fde38",
       "version_major": 2,
       "version_minor": 0
      },
      "text/plain": [
       "Render HTML:   0%|          | 0/1 [00:00<?, ?it/s]"
      ]
     },
     "metadata": {},
     "output_type": "display_data"
    },
    {
     "data": {
      "application/vnd.jupyter.widget-view+json": {
       "model_id": "2d189071fc3c430897df48e5c2301448",
       "version_major": 2,
       "version_minor": 0
      },
      "text/plain": [
       "Export report to file:   0%|          | 0/1 [00:00<?, ?it/s]"
      ]
     },
     "metadata": {},
     "output_type": "display_data"
    }
   ],
   "source": [
    "profile = ProfileReport(df, title=\"Data Quality of explanaible variables\", explorative=True)\n",
    "profile.to_file(\"data_quality_firstVariables.html\")\n"
   ]
  },
  {
   "cell_type": "code",
   "execution_count": 13,
   "id": "9b7d1f5d-3814-4a24-b2be-921738ec57a9",
   "metadata": {},
   "outputs": [
    {
     "data": {
      "text/html": [
       "<div>\n",
       "<style scoped>\n",
       "    .dataframe tbody tr th:only-of-type {\n",
       "        vertical-align: middle;\n",
       "    }\n",
       "\n",
       "    .dataframe tbody tr th {\n",
       "        vertical-align: top;\n",
       "    }\n",
       "\n",
       "    .dataframe thead th {\n",
       "        text-align: right;\n",
       "    }\n",
       "</style>\n",
       "<table border=\"1\" class=\"dataframe\">\n",
       "  <thead>\n",
       "    <tr style=\"text-align: right;\">\n",
       "      <th></th>\n",
       "      <th>sequence_type</th>\n",
       "      <th>sequence_id</th>\n",
       "      <th>sequence_counter</th>\n",
       "      <th>subject</th>\n",
       "      <th>orientation</th>\n",
       "      <th>behavior</th>\n",
       "      <th>phase</th>\n",
       "      <th>gesture</th>\n",
       "    </tr>\n",
       "  </thead>\n",
       "  <tbody>\n",
       "  </tbody>\n",
       "</table>\n",
       "</div>"
      ],
      "text/plain": [
       "Empty DataFrame\n",
       "Columns: [sequence_type, sequence_id, sequence_counter, subject, orientation, behavior, phase, gesture]\n",
       "Index: []"
      ]
     },
     "execution_count": 13,
     "metadata": {},
     "output_type": "execute_result"
    }
   ],
   "source": [
    "df[df.isnull().any(axis=1)]"
   ]
  },
  {
   "cell_type": "code",
   "execution_count": 12,
   "id": "e2fe4543-a08a-4f8e-9e44-30324b19ed70",
   "metadata": {},
   "outputs": [
    {
     "name": "stdout",
     "output_type": "stream",
     "text": [
      "<class 'pandas.core.frame.DataFrame'>\n",
      "RangeIndex: 574945 entries, 0 to 574944\n",
      "Data columns (total 8 columns):\n",
      " #   Column            Non-Null Count   Dtype \n",
      "---  ------            --------------   ----- \n",
      " 0   sequence_type     574945 non-null  object\n",
      " 1   sequence_id       574945 non-null  object\n",
      " 2   sequence_counter  574945 non-null  int64 \n",
      " 3   subject           574945 non-null  object\n",
      " 4   orientation       574945 non-null  object\n",
      " 5   behavior          574945 non-null  object\n",
      " 6   phase             574945 non-null  object\n",
      " 7   gesture           574945 non-null  object\n",
      "dtypes: int64(1), object(7)\n",
      "memory usage: 35.1+ MB\n"
     ]
    }
   ],
   "source": [
    "df.info()"
   ]
  },
  {
   "cell_type": "code",
   "execution_count": null,
   "id": "bef3e0ec-82bb-4a14-abee-a3efd0a78f61",
   "metadata": {},
   "outputs": [],
   "source": []
  }
 ],
 "metadata": {
  "kernelspec": {
   "display_name": "Python 3 (ipykernel)",
   "language": "python",
   "name": "python3"
  },
  "language_info": {
   "codemirror_mode": {
    "name": "ipython",
    "version": 3
   },
   "file_extension": ".py",
   "mimetype": "text/x-python",
   "name": "python",
   "nbconvert_exporter": "python",
   "pygments_lexer": "ipython3",
   "version": "3.12.10"
  }
 },
 "nbformat": 4,
 "nbformat_minor": 5
}
