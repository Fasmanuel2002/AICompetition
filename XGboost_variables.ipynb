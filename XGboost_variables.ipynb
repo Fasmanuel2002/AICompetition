{
 "cells": [
  {
   "cell_type": "code",
   "execution_count": 4,
   "id": "715acd60-9f25-4d66-b099-e6cc8aa53946",
   "metadata": {},
   "outputs": [],
   "source": [
    "import xgboost as xgb\n",
    "from sklearn.preprocessing import LabelEncoder\n",
    "from sklearn.model_selection import train_test_split\n",
    "from sklearn.metrics import accuracy_score\n",
    "import pandas as pd\n",
    "import numpy as np"
   ]
  },
  {
   "cell_type": "code",
   "execution_count": 5,
   "id": "a4e9cc95-549e-4e59-a1c6-af19f4e2e5fa",
   "metadata": {},
   "outputs": [],
   "source": [
    "df = pd.read_csv(\"train_df_features.csv\")"
   ]
  },
  {
   "cell_type": "code",
   "execution_count": 6,
   "id": "527ca0d4-3aa6-4272-83b3-785388869bfe",
   "metadata": {},
   "outputs": [
    {
     "name": "stdout",
     "output_type": "stream",
     "text": [
      "              row_id sequence_type sequence_id  sequence_counter      subject  \\\n",
      "0  SEQ_000091_000000        Target  SEQ_000091                 0  SUBJ_032233   \n",
      "1  SEQ_000091_000001        Target  SEQ_000091                 1  SUBJ_032233   \n",
      "2  SEQ_000091_000002        Target  SEQ_000091                 2  SUBJ_032233   \n",
      "3  SEQ_000091_000003        Target  SEQ_000091                 3  SUBJ_032233   \n",
      "4  SEQ_000091_000004        Target  SEQ_000091                 4  SUBJ_032233   \n",
      "\n",
      "       orientation                       behavior       phase  \\\n",
      "0  Seated Straight  Moves hand to target location  Transition   \n",
      "1  Seated Straight  Moves hand to target location  Transition   \n",
      "2  Seated Straight  Moves hand to target location  Transition   \n",
      "3  Seated Straight  Moves hand to target location  Transition   \n",
      "4  Seated Straight  Moves hand to target location  Transition   \n",
      "\n",
      "                 gesture     acc_x  ...  tof_5_mean  tof_5_std  tof_5_min  \\\n",
      "0  Above ear - pull hair -4.492188  ...         NaN        NaN        NaN   \n",
      "1  Above ear - pull hair -4.648437  ...         NaN        NaN        NaN   \n",
      "2  Above ear - pull hair -4.226562  ...         NaN        NaN        NaN   \n",
      "3  Above ear - pull hair -3.878906  ...         NaN        NaN        NaN   \n",
      "4  Above ear - pull hair -3.382812  ...         NaN        NaN        NaN   \n",
      "\n",
      "   tof_5_max  angular_jerk_x  angular_jerk_y  angular_jerk_z  angular_snap_x  \\\n",
      "0        NaN        0.000000        0.000000        0.000000        0.000000   \n",
      "1        NaN        0.090746        2.548779        0.785779        0.090746   \n",
      "2        NaN       -0.546198       -3.470466        1.020515       -0.636944   \n",
      "3        NaN       -0.831028        5.093147       -0.281673       -0.284830   \n",
      "4        NaN       -0.256166        6.082151       -1.050375        0.574862   \n",
      "\n",
      "   angular_snap_y  angular_snap_z  \n",
      "0        0.000000        0.000000  \n",
      "1        2.548779        0.785779  \n",
      "2       -6.019245        0.234736  \n",
      "3        8.563613       -1.302188  \n",
      "4        0.989004       -0.768702  \n",
      "\n",
      "[5 rows x 395 columns]\n"
     ]
    }
   ],
   "source": [
    "print(df.head())"
   ]
  },
  {
   "cell_type": "code",
   "execution_count": 9,
   "id": "d6acf889-4abe-4808-8ffd-9c3430667903",
   "metadata": {},
   "outputs": [],
   "source": [
    "contextual_cols = [\"subject\", \"orientation\", \"behavior\", \"phase\"]\n",
    "label_col = \"sequence_type\""
   ]
  },
  {
   "cell_type": "code",
   "execution_count": 12,
   "id": "bed87142-58d2-4e46-a5b0-487db783fc6f",
   "metadata": {},
   "outputs": [
    {
     "name": "stdout",
     "output_type": "stream",
     "text": [
      "       subject      orientation                       behavior       phase\n",
      "0  SUBJ_032233  Seated Straight  Moves hand to target location  Transition\n",
      "1  SUBJ_032233  Seated Straight  Moves hand to target location  Transition\n",
      "2  SUBJ_032233  Seated Straight  Moves hand to target location  Transition\n",
      "3  SUBJ_032233  Seated Straight  Moves hand to target location  Transition\n",
      "4  SUBJ_032233  Seated Straight  Moves hand to target location  Transition\n"
     ]
    }
   ],
   "source": [
    "print(df[contextual_cols].head())"
   ]
  },
  {
   "cell_type": "code",
   "execution_count": 13,
   "id": "bf2dfaad-9fb0-4456-a3e5-4e19184a7306",
   "metadata": {},
   "outputs": [],
   "source": [
    "df_encoded = df.copy()\n",
    "for col in contextual_cols:\n",
    "    label_encoder = LabelEncoder()\n",
    "    df_encoded[col] = label_encoder.fit_transform(df_encoded[col].astype(str))\n",
    "X = df_encoded[contextual_cols]\n",
    "y = (df_encoded[label_col] == \"Target\").astype(int)\n",
    "\n"
   ]
  },
  {
   "cell_type": "code",
   "execution_count": 15,
   "id": "359c608a-03d9-4e4a-a1bd-29c035ae010f",
   "metadata": {},
   "outputs": [],
   "source": [
    "X_train, X_test, Y_train, Y_test = train_test_split(\n",
    "X, y, test_size=0.20,random_state=42)\n"
   ]
  },
  {
   "cell_type": "code",
   "execution_count": 21,
   "id": "0879e583-dd8f-4745-bf3b-f08c8f0e9e8b",
   "metadata": {},
   "outputs": [
    {
     "name": "stdout",
     "output_type": "stream",
     "text": [
      "XGBoost accuracy: 0.6936157648396833\n"
     ]
    }
   ],
   "source": [
    "model_xgb = xgb.XGBClassifier(\n",
    "    n_estimators=200,\n",
    "    max_depth=20,\n",
    "    learning_rate=0.05,\n",
    "    subsample=0.8,\n",
    "    colsample_bytree=0.8,\n",
    "    eval_metric=\"logloss\"\n",
    ")\n",
    "model_xgb.fit(X_train, Y_train)\n",
    "preds = model_xgb.predict(X_test)\n",
    "\n",
    "print(\"XGBoost accuracy:\", accuracy_score(Y_test, preds))\n"
   ]
  },
  {
   "cell_type": "code",
   "execution_count": 25,
   "id": "78a97f3d-9ae7-4d06-ab17-fa577cac1ef5",
   "metadata": {},
   "outputs": [],
   "source": [
    "model_xgb.save_model(\"XGBoost_variables.json\")"
   ]
  },
  {
   "cell_type": "code",
   "execution_count": null,
   "id": "9e8d2642-88bf-46dd-80c8-85dec70699bd",
   "metadata": {},
   "outputs": [],
   "source": []
  }
 ],
 "metadata": {
  "kernelspec": {
   "display_name": "Python 3 (ipykernel)",
   "language": "python",
   "name": "python3"
  },
  "language_info": {
   "codemirror_mode": {
    "name": "ipython",
    "version": 3
   },
   "file_extension": ".py",
   "mimetype": "text/x-python",
   "name": "python",
   "nbconvert_exporter": "python",
   "pygments_lexer": "ipython3",
   "version": "3.12.10"
  }
 },
 "nbformat": 4,
 "nbformat_minor": 5
}
