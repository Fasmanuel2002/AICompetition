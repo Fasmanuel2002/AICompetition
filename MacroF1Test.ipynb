{
 "cells": [
  {
   "cell_type": "code",
   "execution_count": 4,
   "id": "ed448813-2efa-4a01-af01-ba692cb63d24",
   "metadata": {},
   "outputs": [
    {
     "name": "stderr",
     "output_type": "stream",
     "text": [
      "WARNING:absl:Compiled the loaded model, but the compiled metrics have yet to be built. `model.compile_metrics` will be empty until you train or evaluate the model.\n",
      "WARNING:absl:Compiled the loaded model, but the compiled metrics have yet to be built. `model.compile_metrics` will be empty until you train or evaluate the model.\n"
     ]
    },
    {
     "name": "stdout",
     "output_type": "stream",
     "text": [
      "IMU: (2, 115, 10) | Thm: (2, 115, 5) | ToF: (2, 64, 5) \n"
     ]
    },
    {
     "name": "stderr",
     "output_type": "stream",
     "text": [
      "WARNING:absl:Compiled the loaded model, but the compiled metrics have yet to be built. `model.compile_metrics` will be empty until you train or evaluate the model.\n"
     ]
    },
    {
     "name": "stdout",
     "output_type": "stream",
     "text": [
      "WARNING:tensorflow:5 out of the last 5 calls to <function TensorFlowTrainer.make_predict_function.<locals>.one_step_on_data_distributed at 0x7fe92810e700> triggered tf.function retracing. Tracing is expensive and the excessive number of tracings could be due to (1) creating @tf.function repeatedly in a loop, (2) passing tensors with different shapes, (3) passing Python objects instead of tensors. For (1), please define your @tf.function outside of the loop. For (2), @tf.function has reduce_retracing=True option that can avoid unnecessary retracing. For (3), please refer to https://www.tensorflow.org/guide/function#controlling_retracing and https://www.tensorflow.org/api_docs/python/tf/function for  more details.\n"
     ]
    },
    {
     "name": "stderr",
     "output_type": "stream",
     "text": [
      "WARNING:tensorflow:5 out of the last 5 calls to <function TensorFlowTrainer.make_predict_function.<locals>.one_step_on_data_distributed at 0x7fe92810e700> triggered tf.function retracing. Tracing is expensive and the excessive number of tracings could be due to (1) creating @tf.function repeatedly in a loop, (2) passing tensors with different shapes, (3) passing Python objects instead of tensors. For (1), please define your @tf.function outside of the loop. For (2), @tf.function has reduce_retracing=True option that can avoid unnecessary retracing. For (3), please refer to https://www.tensorflow.org/guide/function#controlling_retracing and https://www.tensorflow.org/api_docs/python/tf/function for  more details.\n"
     ]
    },
    {
     "name": "stdout",
     "output_type": "stream",
     "text": [
      "WARNING:tensorflow:6 out of the last 6 calls to <function TensorFlowTrainer.make_predict_function.<locals>.one_step_on_data_distributed at 0x7fe92810d4e0> triggered tf.function retracing. Tracing is expensive and the excessive number of tracings could be due to (1) creating @tf.function repeatedly in a loop, (2) passing tensors with different shapes, (3) passing Python objects instead of tensors. For (1), please define your @tf.function outside of the loop. For (2), @tf.function has reduce_retracing=True option that can avoid unnecessary retracing. For (3), please refer to https://www.tensorflow.org/guide/function#controlling_retracing and https://www.tensorflow.org/api_docs/python/tf/function for  more details.\n"
     ]
    },
    {
     "name": "stderr",
     "output_type": "stream",
     "text": [
      "WARNING:tensorflow:6 out of the last 6 calls to <function TensorFlowTrainer.make_predict_function.<locals>.one_step_on_data_distributed at 0x7fe92810d4e0> triggered tf.function retracing. Tracing is expensive and the excessive number of tracings could be due to (1) creating @tf.function repeatedly in a loop, (2) passing tensors with different shapes, (3) passing Python objects instead of tensors. For (1), please define your @tf.function outside of the loop. For (2), @tf.function has reduce_retracing=True option that can avoid unnecessary retracing. For (3), please refer to https://www.tensorflow.org/guide/function#controlling_retracing and https://www.tensorflow.org/api_docs/python/tf/function for  more details.\n"
     ]
    },
    {
     "name": "stdout",
     "output_type": "stream",
     "text": [
      "  sequence_id         pred_label  confidence\n",
      "0  SEQ_000001  Write name on leg    0.189136\n",
      "1  SEQ_000011     Neck - scratch    0.234653\n"
     ]
    }
   ],
   "source": [
    "import pandas as pd\n",
    "import numpy as np\n",
    "from keras.models import load_model\n",
    "from tensorflow.keras.preprocessing.sequence import pad_sequences\n",
    "import matplotlib.pyplot as plt\n",
    "import xgboost as xgb\n",
    "\n",
    "df_test = pd.read_csv(\"test_df_features.csv\")\n",
    "\n",
    "\n",
    "\n",
    "imu_cols_acceleration = [column for column in df_test.columns if column.startswith(\"acc_\")]\n",
    "imu_cols_rotation = [columns for columns in df_test.columns if columns.startswith(\"rot_\")]\n",
    "IMU_Cols = imu_cols_acceleration + imu_cols_rotation\n",
    "Thm_Cols = [c for c in df_test.columns if c.startswith(\"thm_\")]\n",
    "ToF_Cols = [c for c in df_test.columns if c.startswith(\"tof_\")][:5]\n",
    "#XGboost_cols = [\"subject\", \"orientation\", \"behavior\", \"phase\"]\n",
    "\n",
    "grouped = df_test.groupby(\"sequence_id\")\n",
    "X_IMU_list = [group[IMU_Cols].values for _, group in grouped]\n",
    "X_Thm_list = [group[Thm_Cols].values for _, group in grouped]\n",
    "X_ToF_list = [group[ToF_Cols].values for _, group in grouped]\n",
    "#X_XGboost_list = [group[XGboost_cols].values for _, group in grouped]\n",
    "sequence_ids = list(grouped.groups.keys())\n",
    "\n",
    "\n",
    "X_IMU = pad_sequences(X_IMU_list, maxlen=115, dtype='float32', padding='post', truncating='post')\n",
    "X_Thm = pad_sequences(X_Thm_list, maxlen=115, dtype='float32', padding='post', truncating='post')\n",
    "X_ToF = pad_sequences(X_ToF_list, maxlen=64, dtype='float32', padding='post', truncating='post')\n",
    "#X_XGboost = pad_sequences(X_XGboost_list, dtype='float32', padding='post', truncating='post')\n",
    "print(f\"IMU: {X_IMU.shape} | Thm: {X_Thm.shape} | ToF: {X_ToF.shape} \")\n",
    "\n",
    "\n",
    "model_imu = load_model(\"IMU_RNN_LSTM_variables_macrof1.h5\")\n",
    "model_tof = load_model(\"Tofs_CNN_MacroF1.h5\")\n",
    "model_thm = load_model(\"THM_RNN_LSTM.h5\")\n",
    "\n",
    "#xgb_model = xgb.XGBClassifier()\n",
    "#xgb_model.load_model(\"XGBoost_variables.json\")\n",
    "\n",
    "pred_imu_all = model_imu.predict(X_IMU, verbose=0)\n",
    "pred_tof_all = model_tof.predict(X_ToF, verbose=0)\n",
    "pred_thm_all = model_thm.predict(X_Thm, verbose=0)\n",
    "#pred_xgb_all = xgb_model_predict(X_XGboost)\n",
    "\n",
    "\n",
    "weighted_pred = 0.4 * pred_imu_all + 0.4 * pred_tof_all + 0.2 * pred_thm_all\n",
    "weighted_pred = weighted_pred / np.sum(weighted_pred, axis=1, keepdims=True)\n",
    "\n",
    "pred_indices = np.argmax(weighted_pred, axis=1)\n",
    "\n",
    "\n",
    "gesture_classes = [\n",
    "    \"Above ear - pull hair\",\n",
    "    \"Cheek - pinch skin\",\n",
    "    \"Eyebrow - pull hair\",\n",
    "    \"Eyelash - pull hair\",\n",
    "    \"Forehead - pull hairline\",\n",
    "    \"Forehead - scratch\",\n",
    "    \"Neck - pinch skin\",\n",
    "    \"Neck - scratch\",\n",
    "    \"Write name on leg\",\n",
    "    \"Wave hello\",\n",
    "    \"Glasses on/off\",\n",
    "    \"Text on phone\",\n",
    "    \"Write name in air\",\n",
    "    \"Feel around in tray and pull out an object\",\n",
    "    \"Scratch knee/leg skin\",\n",
    "    \"Pull air toward your face\",\n",
    "    \"Drink from bottle/cup\",\n",
    "    \"Pinch knee/leg skin\",\n",
    "    \"non_target\"\n",
    "]\n",
    "\n",
    "pred_labels = [gesture_classes[i] for i in pred_indices]\n",
    "max_probs = np.max(weighted_pred, axis=1)\n",
    "results = pd.DataFrame({\n",
    "    \"sequence_id\": sequence_ids,\n",
    "    \"pred_label\": pred_labels,\n",
    "    \"confidence\": max_probs\n",
    "})\n",
    "print(results.head())\n",
    "\n"
   ]
  },
  {
   "cell_type": "code",
   "execution_count": null,
   "id": "f4011b33-6443-43d2-8046-d3ca6da9d1a4",
   "metadata": {},
   "outputs": [],
   "source": []
  }
 ],
 "metadata": {
  "kernelspec": {
   "display_name": "Python 3 (ipykernel)",
   "language": "python",
   "name": "python3"
  },
  "language_info": {
   "codemirror_mode": {
    "name": "ipython",
    "version": 3
   },
   "file_extension": ".py",
   "mimetype": "text/x-python",
   "name": "python",
   "nbconvert_exporter": "python",
   "pygments_lexer": "ipython3",
   "version": "3.12.10"
  }
 },
 "nbformat": 4,
 "nbformat_minor": 5
}
