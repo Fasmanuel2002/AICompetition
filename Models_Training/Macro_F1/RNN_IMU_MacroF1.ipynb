{
 "cells": [
  {
   "cell_type": "code",
   "execution_count": 1,
   "id": "45db73fa-926c-4c89-82f2-eb1389f77fc5",
   "metadata": {},
   "outputs": [
    {
     "name": "stderr",
     "output_type": "stream",
     "text": [
      "2025-10-24 12:10:04.906794: E external/local_xla/xla/stream_executor/cuda/cuda_fft.cc:485] Unable to register cuFFT factory: Attempting to register factory for plugin cuFFT when one has already been registered\n",
      "2025-10-24 12:10:04.925375: E external/local_xla/xla/stream_executor/cuda/cuda_dnn.cc:8454] Unable to register cuDNN factory: Attempting to register factory for plugin cuDNN when one has already been registered\n",
      "2025-10-24 12:10:04.931303: E external/local_xla/xla/stream_executor/cuda/cuda_blas.cc:1452] Unable to register cuBLAS factory: Attempting to register factory for plugin cuBLAS when one has already been registered\n",
      "2025-10-24 12:10:04.945658: I tensorflow/core/platform/cpu_feature_guard.cc:210] This TensorFlow binary is optimized to use available CPU instructions in performance-critical operations.\n",
      "To enable the following instructions: AVX2 FMA, in other operations, rebuild TensorFlow with the appropriate compiler flags.\n",
      "2025-10-24 12:10:05.725161: W tensorflow/compiler/tf2tensorrt/utils/py_utils.cc:38] TF-TRT Warning: Could not find TensorRT\n"
     ]
    }
   ],
   "source": [
    "import pandas as pd\n",
    "import numpy as np\n",
    "import os \n",
    "import keras\n",
    "import tensorflow as tf\n",
    "from sklearn.model_selection import train_test_split\n",
    "import matplotlib.pyplot as plt\n",
    "import os\n",
    "from sklearn.preprocessing import LabelEncoder\n",
    "\n",
    "from keras.preprocessing.sequence import pad_sequences\n",
    "from sklearn.preprocessing import LabelEncoder\n",
    "from keras.utils import to_categorical"
   ]
  },
  {
   "cell_type": "code",
   "execution_count": 2,
   "id": "493f5982-153e-4f4f-bee9-e0fe40a6f056",
   "metadata": {},
   "outputs": [],
   "source": [
    "df = pd.read_csv(\"train_df_features.csv\")"
   ]
  },
  {
   "cell_type": "code",
   "execution_count": 3,
   "id": "64ed8063-7351-4aa1-ad21-3fa66759a2ec",
   "metadata": {},
   "outputs": [
    {
     "name": "stdout",
     "output_type": "stream",
     "text": [
      "              row_id sequence_type sequence_id  sequence_counter      subject  \\\n",
      "0  SEQ_000091_000000        Target  SEQ_000091                 0  SUBJ_032233   \n",
      "1  SEQ_000091_000001        Target  SEQ_000091                 1  SUBJ_032233   \n",
      "2  SEQ_000091_000002        Target  SEQ_000091                 2  SUBJ_032233   \n",
      "3  SEQ_000091_000003        Target  SEQ_000091                 3  SUBJ_032233   \n",
      "4  SEQ_000091_000004        Target  SEQ_000091                 4  SUBJ_032233   \n",
      "\n",
      "       orientation                       behavior       phase  \\\n",
      "0  Seated Straight  Moves hand to target location  Transition   \n",
      "1  Seated Straight  Moves hand to target location  Transition   \n",
      "2  Seated Straight  Moves hand to target location  Transition   \n",
      "3  Seated Straight  Moves hand to target location  Transition   \n",
      "4  Seated Straight  Moves hand to target location  Transition   \n",
      "\n",
      "                 gesture     acc_x  ...  tof_5_mean  tof_5_std  tof_5_min  \\\n",
      "0  Above ear - pull hair -4.492188  ...         NaN        NaN        NaN   \n",
      "1  Above ear - pull hair -4.648437  ...         NaN        NaN        NaN   \n",
      "2  Above ear - pull hair -4.226562  ...         NaN        NaN        NaN   \n",
      "3  Above ear - pull hair -3.878906  ...         NaN        NaN        NaN   \n",
      "4  Above ear - pull hair -3.382812  ...         NaN        NaN        NaN   \n",
      "\n",
      "   tof_5_max  angular_jerk_x  angular_jerk_y  angular_jerk_z  angular_snap_x  \\\n",
      "0        NaN        0.000000        0.000000        0.000000        0.000000   \n",
      "1        NaN        0.090746        2.548779        0.785779        0.090746   \n",
      "2        NaN       -0.546198       -3.470466        1.020515       -0.636944   \n",
      "3        NaN       -0.831028        5.093147       -0.281673       -0.284830   \n",
      "4        NaN       -0.256166        6.082151       -1.050375        0.574862   \n",
      "\n",
      "   angular_snap_y  angular_snap_z  \n",
      "0        0.000000        0.000000  \n",
      "1        2.548779        0.785779  \n",
      "2       -6.019245        0.234736  \n",
      "3        8.563613       -1.302188  \n",
      "4        0.989004       -0.768702  \n",
      "\n",
      "[5 rows x 395 columns]\n"
     ]
    }
   ],
   "source": [
    "print(df.head())"
   ]
  },
  {
   "cell_type": "code",
   "execution_count": 4,
   "id": "0902f3da-9686-42dc-9430-5adf5c1a57e9",
   "metadata": {},
   "outputs": [],
   "source": [
    "imu_cols_acceleration = [column for column in df.columns if column.startswith(\"acc_\")]\n",
    "imu_cols_rotation = [columns for columns in df.columns if columns.startswith(\"rot_\")]\n",
    "\n",
    "\n",
    "\n",
    "IMUcolumns = imu_cols_acceleration + imu_cols_rotation\n",
    "columns_targets_gestures = [\n",
    "    \"Above ear - pull hair\",\n",
    "    'Cheek - pinch skin',\n",
    "     'Eyebrow - pull hair',\n",
    "    'Eyelash - pull hair',\n",
    "    'Forehead - pull hairline',\n",
    "    'Forehead - scratch',\n",
    "    'Neck - pinch skin',\n",
    "    'Neck - scratch',\n",
    "]  \n",
    "columns_non_gestures = [\n",
    "            'Write name on leg',\n",
    "            'Wave hello',\n",
    "            'Glasses on/off',\n",
    "            'Text on phone',\n",
    "            'Write name in air',\n",
    "            'Feel around in tray and pull out an object',\n",
    "            'Scratch knee/leg skin',\n",
    "            'Pull air toward your face',\n",
    "            'Drink from bottle/cup',\n",
    "            'Pinch knee/leg skin'\n",
    "        ]\n",
    "\n",
    "df['label_collapsed'] = df['gesture'].apply(\n",
    "    lambda x: x if x in columns_targets_gestures else 'non_target'\n",
    ")\n",
    "\n",
    "n_samples = min(len(df), len(IMUcolumns))\n",
    "label_col = df['label_collapsed'].iloc[:n_samples].values\n",
    "\n"
   ]
  },
  {
   "cell_type": "code",
   "execution_count": 5,
   "id": "be1c9682-a2f0-4859-b634-8343f1826e65",
   "metadata": {},
   "outputs": [],
   "source": [
    "X = []\n",
    "y = []\n",
    "\n",
    "for seq_id, group in df.groupby(\"sequence_id\"):\n",
    "    X.append(group[IMUcolumns].values)\n",
    "    y.append(group['label_collapsed'].iloc[0])  "
   ]
  },
  {
   "cell_type": "code",
   "execution_count": 6,
   "id": "8bb2b32d-3f5e-4873-b805-dd2e4aa05e56",
   "metadata": {},
   "outputs": [
    {
     "name": "stdout",
     "output_type": "stream",
     "text": [
      "X_pad shape: (7573, 115, 10)\n",
      "y_Categorical shape: (7573, 9)\n"
     ]
    }
   ],
   "source": [
    "max_len_sequences = int(np.percentile([len(seq) for seq in X], 95))\n",
    "\n",
    "X_padded = pad_sequences(X, maxlen=max_len_sequences, dtype='float32', padding='post', truncating='post')\n",
    "\n",
    "labelEncoder = LabelEncoder()\n",
    "\n",
    "y_encoded = labelEncoder.fit_transform(y)\n",
    "y_categorical = to_categorical(y_encoded, num_classes=9)\n",
    "\n",
    "print(f\"X_pad shape: {X_padded.shape}\")\n",
    "print(f\"y_Categorical shape: {y_categorical.shape}\")"
   ]
  },
  {
   "cell_type": "code",
   "execution_count": 7,
   "id": "b796f0cd-abc9-42b2-8032-f96a6e117ff9",
   "metadata": {},
   "outputs": [],
   "source": [
    "def LSTM_RNN_IMU_model(input_shape=(None, 10), num_classes=9):\n",
    "    inputs = keras.layers.Input(shape = input_shape)\n",
    "\n",
    "    x = keras.layers.Bidirectional(keras.layers.LSTM(128, return_sequences=True))(inputs)\n",
    "    x = keras.layers.Dropout(0.30)(x)\n",
    "    x = keras.layers.LSTM(64)(x)\n",
    "    x = keras.layers.Dropout(0.30)(x)\n",
    "\n",
    "    x = keras.layers.Dense(128, activation='relu')(x)\n",
    "    x = keras.layers.BatchNormalization()(x)\n",
    "    x = keras.layers.Dropout(0.30)(x)\n",
    "\n",
    "    outputs = keras.layers.Dense(num_classes, activation='softmax')(x)\n",
    "    model = keras.models.Model(inputs, outputs)\n",
    "\n",
    "    return model\n",
    "    "
   ]
  },
  {
   "cell_type": "code",
   "execution_count": 8,
   "id": "965864ed-b578-4234-834f-85db8d7992c8",
   "metadata": {},
   "outputs": [
    {
     "name": "stdout",
     "output_type": "stream",
     "text": [
      "X train shape: (6058, 115, 10)\n",
      "Y train shape: (6058, 9)\n",
      "X test shape: (1515, 115, 10)\n",
      "Y test shape: (1515, 9)\n"
     ]
    }
   ],
   "source": [
    "X_train, X_test, Y_train, Y_test = train_test_split(\n",
    "    X_padded, y_categorical, test_size=0.20, shuffle = False\n",
    ")\n",
    "\n",
    "print(f\"X train shape: {X_train.shape}\")\n",
    "print(f\"Y train shape: {Y_train.shape}\")\n",
    "print(f\"X test shape: {X_test.shape}\")\n",
    "print(f\"Y test shape: {Y_test.shape}\")"
   ]
  },
  {
   "cell_type": "code",
   "execution_count": 9,
   "id": "2938c840-02f9-4e6d-8c19-f66894f022b6",
   "metadata": {},
   "outputs": [
    {
     "name": "stdout",
     "output_type": "stream",
     "text": [
      "X train shape: (6058, 115, 10)\n",
      "Y train shape: (6058, 9)\n",
      "X test shape: (1515, 115, 10)\n",
      "Y test shape: (1515, 9)\n"
     ]
    }
   ],
   "source": [
    "X_train, X_test, Y_train, Y_test = train_test_split(\n",
    "    X_padded, y_categorical, test_size=0.20, shuffle = False\n",
    ")\n",
    "\n",
    "print(f\"X train shape: {X_train.shape}\")\n",
    "print(f\"Y train shape: {Y_train.shape}\")\n",
    "print(f\"X test shape: {X_test.shape}\")\n",
    "print(f\"Y test shape: {Y_test.shape}\")"
   ]
  },
  {
   "cell_type": "code",
   "execution_count": 10,
   "id": "dd2ae22a-b1fa-4978-b74f-f80f510651d2",
   "metadata": {},
   "outputs": [
    {
     "name": "stderr",
     "output_type": "stream",
     "text": [
      "2025-10-24 12:10:42.041335: W tensorflow/core/common_runtime/gpu/gpu_device.cc:2343] Cannot dlopen some GPU libraries. Please make sure the missing libraries mentioned above are installed properly if you would like to use GPU. Follow the guide at https://www.tensorflow.org/install/gpu for how to download and setup the required libraries for your platform.\n",
      "Skipping registering GPU devices...\n"
     ]
    }
   ],
   "source": [
    "model = LSTM_RNN_IMU_model(input_shape=(max_len_sequences, len(IMUcolumns)))\n"
   ]
  },
  {
   "cell_type": "code",
   "execution_count": 11,
   "id": "1243bdaa-da57-48c4-82f6-1d66f38c6d99",
   "metadata": {},
   "outputs": [
    {
     "name": "stdout",
     "output_type": "stream",
     "text": [
      "Epoch 1/50\n",
      "\u001b[1m190/190\u001b[0m \u001b[32m━━━━━━━━━━━━━━━━━━━━\u001b[0m\u001b[37m\u001b[0m \u001b[1m30s\u001b[0m 141ms/step - accuracy: 0.1244 - loss: 2.4412 - val_accuracy: 0.3498 - val_loss: 2.1346\n",
      "Epoch 2/50\n",
      "\u001b[1m190/190\u001b[0m \u001b[32m━━━━━━━━━━━━━━━━━━━━\u001b[0m\u001b[37m\u001b[0m \u001b[1m25s\u001b[0m 134ms/step - accuracy: 0.2592 - loss: 2.2035 - val_accuracy: 0.3492 - val_loss: 2.0690\n",
      "Epoch 3/50\n",
      "\u001b[1m190/190\u001b[0m \u001b[32m━━━━━━━━━━━━━━━━━━━━\u001b[0m\u001b[37m\u001b[0m \u001b[1m25s\u001b[0m 132ms/step - accuracy: 0.3230 - loss: 2.0953 - val_accuracy: 0.3551 - val_loss: 1.8264\n",
      "Epoch 4/50\n",
      "\u001b[1m190/190\u001b[0m \u001b[32m━━━━━━━━━━━━━━━━━━━━\u001b[0m\u001b[37m\u001b[0m \u001b[1m26s\u001b[0m 136ms/step - accuracy: 0.3500 - loss: 1.8568 - val_accuracy: 0.3723 - val_loss: 1.7427\n",
      "Epoch 5/50\n",
      "\u001b[1m190/190\u001b[0m \u001b[32m━━━━━━━━━━━━━━━━━━━━\u001b[0m\u001b[37m\u001b[0m \u001b[1m25s\u001b[0m 133ms/step - accuracy: 0.3754 - loss: 1.7410 - val_accuracy: 0.3855 - val_loss: 1.6824\n",
      "Epoch 6/50\n",
      "\u001b[1m190/190\u001b[0m \u001b[32m━━━━━━━━━━━━━━━━━━━━\u001b[0m\u001b[37m\u001b[0m \u001b[1m25s\u001b[0m 133ms/step - accuracy: 0.3922 - loss: 1.6996 - val_accuracy: 0.3914 - val_loss: 1.6785\n",
      "Epoch 7/50\n",
      "\u001b[1m190/190\u001b[0m \u001b[32m━━━━━━━━━━━━━━━━━━━━\u001b[0m\u001b[37m\u001b[0m \u001b[1m25s\u001b[0m 133ms/step - accuracy: 0.3713 - loss: 1.7064 - val_accuracy: 0.3802 - val_loss: 1.6578\n",
      "Epoch 8/50\n",
      "\u001b[1m190/190\u001b[0m \u001b[32m━━━━━━━━━━━━━━━━━━━━\u001b[0m\u001b[37m\u001b[0m \u001b[1m26s\u001b[0m 137ms/step - accuracy: 0.3840 - loss: 1.6757 - val_accuracy: 0.3828 - val_loss: 1.6662\n",
      "Epoch 9/50\n",
      "\u001b[1m190/190\u001b[0m \u001b[32m━━━━━━━━━━━━━━━━━━━━\u001b[0m\u001b[37m\u001b[0m \u001b[1m26s\u001b[0m 136ms/step - accuracy: 0.3991 - loss: 1.6356 - val_accuracy: 0.3901 - val_loss: 1.6207\n",
      "Epoch 10/50\n",
      "\u001b[1m190/190\u001b[0m \u001b[32m━━━━━━━━━━━━━━━━━━━━\u001b[0m\u001b[37m\u001b[0m \u001b[1m26s\u001b[0m 136ms/step - accuracy: 0.3933 - loss: 1.6229 - val_accuracy: 0.3855 - val_loss: 1.6578\n",
      "Epoch 11/50\n",
      "\u001b[1m190/190\u001b[0m \u001b[32m━━━━━━━━━━━━━━━━━━━━\u001b[0m\u001b[37m\u001b[0m \u001b[1m26s\u001b[0m 136ms/step - accuracy: 0.3975 - loss: 1.6179 - val_accuracy: 0.3987 - val_loss: 1.6435\n",
      "Epoch 12/50\n",
      "\u001b[1m190/190\u001b[0m \u001b[32m━━━━━━━━━━━━━━━━━━━━\u001b[0m\u001b[37m\u001b[0m \u001b[1m26s\u001b[0m 136ms/step - accuracy: 0.4056 - loss: 1.5909 - val_accuracy: 0.3894 - val_loss: 1.6126\n",
      "Epoch 13/50\n",
      "\u001b[1m190/190\u001b[0m \u001b[32m━━━━━━━━━━━━━━━━━━━━\u001b[0m\u001b[37m\u001b[0m \u001b[1m26s\u001b[0m 135ms/step - accuracy: 0.3918 - loss: 1.6176 - val_accuracy: 0.3967 - val_loss: 1.7089\n",
      "Epoch 14/50\n",
      "\u001b[1m190/190\u001b[0m \u001b[32m━━━━━━━━━━━━━━━━━━━━\u001b[0m\u001b[37m\u001b[0m \u001b[1m26s\u001b[0m 136ms/step - accuracy: 0.4155 - loss: 1.5629 - val_accuracy: 0.4079 - val_loss: 1.5794\n",
      "Epoch 15/50\n",
      "\u001b[1m190/190\u001b[0m \u001b[32m━━━━━━━━━━━━━━━━━━━━\u001b[0m\u001b[37m\u001b[0m \u001b[1m26s\u001b[0m 139ms/step - accuracy: 0.4109 - loss: 1.5753 - val_accuracy: 0.4284 - val_loss: 1.5795\n",
      "Epoch 16/50\n",
      "\u001b[1m190/190\u001b[0m \u001b[32m━━━━━━━━━━━━━━━━━━━━\u001b[0m\u001b[37m\u001b[0m \u001b[1m40s\u001b[0m 132ms/step - accuracy: 0.4226 - loss: 1.5402 - val_accuracy: 0.4119 - val_loss: 1.5895\n",
      "Epoch 17/50\n",
      "\u001b[1m190/190\u001b[0m \u001b[32m━━━━━━━━━━━━━━━━━━━━\u001b[0m\u001b[37m\u001b[0m \u001b[1m26s\u001b[0m 135ms/step - accuracy: 0.4265 - loss: 1.5307 - val_accuracy: 0.4079 - val_loss: 1.5856\n",
      "Epoch 18/50\n",
      "\u001b[1m190/190\u001b[0m \u001b[32m━━━━━━━━━━━━━━━━━━━━\u001b[0m\u001b[37m\u001b[0m \u001b[1m25s\u001b[0m 132ms/step - accuracy: 0.4289 - loss: 1.5207 - val_accuracy: 0.4343 - val_loss: 1.5297\n",
      "Epoch 19/50\n",
      "\u001b[1m190/190\u001b[0m \u001b[32m━━━━━━━━━━━━━━━━━━━━\u001b[0m\u001b[37m\u001b[0m \u001b[1m26s\u001b[0m 134ms/step - accuracy: 0.4356 - loss: 1.5156 - val_accuracy: 0.4323 - val_loss: 1.5229\n",
      "Epoch 20/50\n",
      "\u001b[1m190/190\u001b[0m \u001b[32m━━━━━━━━━━━━━━━━━━━━\u001b[0m\u001b[37m\u001b[0m \u001b[1m26s\u001b[0m 136ms/step - accuracy: 0.4326 - loss: 1.4971 - val_accuracy: 0.4383 - val_loss: 1.5130\n",
      "Epoch 21/50\n",
      "\u001b[1m190/190\u001b[0m \u001b[32m━━━━━━━━━━━━━━━━━━━━\u001b[0m\u001b[37m\u001b[0m \u001b[1m26s\u001b[0m 135ms/step - accuracy: 0.4271 - loss: 1.5027 - val_accuracy: 0.4383 - val_loss: 1.5082\n",
      "Epoch 22/50\n",
      "\u001b[1m190/190\u001b[0m \u001b[32m━━━━━━━━━━━━━━━━━━━━\u001b[0m\u001b[37m\u001b[0m \u001b[1m26s\u001b[0m 136ms/step - accuracy: 0.4409 - loss: 1.4630 - val_accuracy: 0.4436 - val_loss: 1.4987\n",
      "Epoch 23/50\n",
      "\u001b[1m190/190\u001b[0m \u001b[32m━━━━━━━━━━━━━━━━━━━━\u001b[0m\u001b[37m\u001b[0m \u001b[1m25s\u001b[0m 132ms/step - accuracy: 0.4403 - loss: 1.4823 - val_accuracy: 0.4475 - val_loss: 1.5085\n",
      "Epoch 24/50\n",
      "\u001b[1m190/190\u001b[0m \u001b[32m━━━━━━━━━━━━━━━━━━━━\u001b[0m\u001b[37m\u001b[0m \u001b[1m42s\u001b[0m 136ms/step - accuracy: 0.4560 - loss: 1.4422 - val_accuracy: 0.4409 - val_loss: 1.5145\n",
      "Epoch 25/50\n",
      "\u001b[1m190/190\u001b[0m \u001b[32m━━━━━━━━━━━━━━━━━━━━\u001b[0m\u001b[37m\u001b[0m \u001b[1m26s\u001b[0m 138ms/step - accuracy: 0.4557 - loss: 1.4483 - val_accuracy: 0.4554 - val_loss: 1.4663\n",
      "Epoch 26/50\n",
      "\u001b[1m190/190\u001b[0m \u001b[32m━━━━━━━━━━━━━━━━━━━━\u001b[0m\u001b[37m\u001b[0m \u001b[1m26s\u001b[0m 138ms/step - accuracy: 0.4531 - loss: 1.4677 - val_accuracy: 0.4495 - val_loss: 1.4875\n",
      "Epoch 27/50\n",
      "\u001b[1m190/190\u001b[0m \u001b[32m━━━━━━━━━━━━━━━━━━━━\u001b[0m\u001b[37m\u001b[0m \u001b[1m26s\u001b[0m 136ms/step - accuracy: 0.4540 - loss: 1.4464 - val_accuracy: 0.4337 - val_loss: 1.4872\n",
      "Epoch 28/50\n",
      "\u001b[1m190/190\u001b[0m \u001b[32m━━━━━━━━━━━━━━━━━━━━\u001b[0m\u001b[37m\u001b[0m \u001b[1m26s\u001b[0m 135ms/step - accuracy: 0.4675 - loss: 1.4300 - val_accuracy: 0.4396 - val_loss: 1.4810\n",
      "Epoch 29/50\n",
      "\u001b[1m190/190\u001b[0m \u001b[32m━━━━━━━━━━━━━━━━━━━━\u001b[0m\u001b[37m\u001b[0m \u001b[1m28s\u001b[0m 147ms/step - accuracy: 0.4609 - loss: 1.4111 - val_accuracy: 0.4409 - val_loss: 1.5705\n",
      "Epoch 30/50\n",
      "\u001b[1m190/190\u001b[0m \u001b[32m━━━━━━━━━━━━━━━━━━━━\u001b[0m\u001b[37m\u001b[0m \u001b[1m31s\u001b[0m 162ms/step - accuracy: 0.4687 - loss: 1.4292 - val_accuracy: 0.4660 - val_loss: 1.4365\n",
      "Epoch 31/50\n",
      "\u001b[1m190/190\u001b[0m \u001b[32m━━━━━━━━━━━━━━━━━━━━\u001b[0m\u001b[37m\u001b[0m \u001b[1m31s\u001b[0m 162ms/step - accuracy: 0.4901 - loss: 1.3666 - val_accuracy: 0.4587 - val_loss: 1.4287\n",
      "Epoch 32/50\n",
      "\u001b[1m190/190\u001b[0m \u001b[32m━━━━━━━━━━━━━━━━━━━━\u001b[0m\u001b[37m\u001b[0m \u001b[1m31s\u001b[0m 162ms/step - accuracy: 0.4869 - loss: 1.3780 - val_accuracy: 0.4535 - val_loss: 1.4487\n",
      "Epoch 33/50\n",
      "\u001b[1m190/190\u001b[0m \u001b[32m━━━━━━━━━━━━━━━━━━━━\u001b[0m\u001b[37m\u001b[0m \u001b[1m31s\u001b[0m 162ms/step - accuracy: 0.4633 - loss: 1.4375 - val_accuracy: 0.4488 - val_loss: 1.4513\n",
      "Epoch 34/50\n",
      "\u001b[1m190/190\u001b[0m \u001b[32m━━━━━━━━━━━━━━━━━━━━\u001b[0m\u001b[37m\u001b[0m \u001b[1m31s\u001b[0m 162ms/step - accuracy: 0.4747 - loss: 1.3967 - val_accuracy: 0.4634 - val_loss: 1.4118\n",
      "Epoch 35/50\n",
      "\u001b[1m190/190\u001b[0m \u001b[32m━━━━━━━━━━━━━━━━━━━━\u001b[0m\u001b[37m\u001b[0m \u001b[1m30s\u001b[0m 159ms/step - accuracy: 0.4802 - loss: 1.3840 - val_accuracy: 0.4587 - val_loss: 1.4306\n",
      "Epoch 36/50\n",
      "\u001b[1m190/190\u001b[0m \u001b[32m━━━━━━━━━━━━━━━━━━━━\u001b[0m\u001b[37m\u001b[0m \u001b[1m31s\u001b[0m 161ms/step - accuracy: 0.4864 - loss: 1.3814 - val_accuracy: 0.4634 - val_loss: 1.4064\n",
      "Epoch 37/50\n",
      "\u001b[1m190/190\u001b[0m \u001b[32m━━━━━━━━━━━━━━━━━━━━\u001b[0m\u001b[37m\u001b[0m \u001b[1m31s\u001b[0m 162ms/step - accuracy: 0.4830 - loss: 1.3771 - val_accuracy: 0.4521 - val_loss: 1.4466\n",
      "Epoch 38/50\n",
      "\u001b[1m190/190\u001b[0m \u001b[32m━━━━━━━━━━━━━━━━━━━━\u001b[0m\u001b[37m\u001b[0m \u001b[1m31s\u001b[0m 163ms/step - accuracy: 0.4904 - loss: 1.3640 - val_accuracy: 0.4706 - val_loss: 1.4071\n",
      "Epoch 39/50\n",
      "\u001b[1m190/190\u001b[0m \u001b[32m━━━━━━━━━━━━━━━━━━━━\u001b[0m\u001b[37m\u001b[0m \u001b[1m31s\u001b[0m 162ms/step - accuracy: 0.4837 - loss: 1.3446 - val_accuracy: 0.4686 - val_loss: 1.3884\n",
      "Epoch 40/50\n",
      "\u001b[1m190/190\u001b[0m \u001b[32m━━━━━━━━━━━━━━━━━━━━\u001b[0m\u001b[37m\u001b[0m \u001b[1m31s\u001b[0m 162ms/step - accuracy: 0.4806 - loss: 1.3390 - val_accuracy: 0.4713 - val_loss: 1.3718\n",
      "Epoch 41/50\n",
      "\u001b[1m190/190\u001b[0m \u001b[32m━━━━━━━━━━━━━━━━━━━━\u001b[0m\u001b[37m\u001b[0m \u001b[1m31s\u001b[0m 162ms/step - accuracy: 0.4966 - loss: 1.3427 - val_accuracy: 0.4766 - val_loss: 1.4004\n",
      "Epoch 42/50\n",
      "\u001b[1m190/190\u001b[0m \u001b[32m━━━━━━━━━━━━━━━━━━━━\u001b[0m\u001b[37m\u001b[0m \u001b[1m31s\u001b[0m 161ms/step - accuracy: 0.4957 - loss: 1.3292 - val_accuracy: 0.4634 - val_loss: 1.4592\n",
      "Epoch 43/50\n",
      "\u001b[1m190/190\u001b[0m \u001b[32m━━━━━━━━━━━━━━━━━━━━\u001b[0m\u001b[37m\u001b[0m \u001b[1m30s\u001b[0m 159ms/step - accuracy: 0.4893 - loss: 1.3432 - val_accuracy: 0.4693 - val_loss: 1.3824\n",
      "Epoch 44/50\n",
      "\u001b[1m190/190\u001b[0m \u001b[32m━━━━━━━━━━━━━━━━━━━━\u001b[0m\u001b[37m\u001b[0m \u001b[1m30s\u001b[0m 155ms/step - accuracy: 0.4916 - loss: 1.3216 - val_accuracy: 0.4667 - val_loss: 1.3948\n",
      "Epoch 45/50\n",
      "\u001b[1m190/190\u001b[0m \u001b[32m━━━━━━━━━━━━━━━━━━━━\u001b[0m\u001b[37m\u001b[0m \u001b[1m30s\u001b[0m 157ms/step - accuracy: 0.4934 - loss: 1.3200 - val_accuracy: 0.4535 - val_loss: 1.4121\n",
      "Epoch 46/50\n",
      "\u001b[1m190/190\u001b[0m \u001b[32m━━━━━━━━━━━━━━━━━━━━\u001b[0m\u001b[37m\u001b[0m \u001b[1m30s\u001b[0m 159ms/step - accuracy: 0.5080 - loss: 1.3069 - val_accuracy: 0.4832 - val_loss: 1.3626\n",
      "Epoch 47/50\n",
      "\u001b[1m190/190\u001b[0m \u001b[32m━━━━━━━━━━━━━━━━━━━━\u001b[0m\u001b[37m\u001b[0m \u001b[1m30s\u001b[0m 160ms/step - accuracy: 0.4933 - loss: 1.3132 - val_accuracy: 0.4554 - val_loss: 1.4057\n",
      "Epoch 48/50\n",
      "\u001b[1m190/190\u001b[0m \u001b[32m━━━━━━━━━━━━━━━━━━━━\u001b[0m\u001b[37m\u001b[0m \u001b[1m31s\u001b[0m 161ms/step - accuracy: 0.4930 - loss: 1.3038 - val_accuracy: 0.4719 - val_loss: 1.3777\n",
      "Epoch 49/50\n",
      "\u001b[1m190/190\u001b[0m \u001b[32m━━━━━━━━━━━━━━━━━━━━\u001b[0m\u001b[37m\u001b[0m \u001b[1m30s\u001b[0m 160ms/step - accuracy: 0.5244 - loss: 1.2680 - val_accuracy: 0.4746 - val_loss: 1.3654\n",
      "Epoch 50/50\n",
      "\u001b[1m190/190\u001b[0m \u001b[32m━━━━━━━━━━━━━━━━━━━━\u001b[0m\u001b[37m\u001b[0m \u001b[1m31s\u001b[0m 162ms/step - accuracy: 0.5185 - loss: 1.2625 - val_accuracy: 0.4706 - val_loss: 1.3799\n"
     ]
    },
    {
     "data": {
      "text/html": [
       "<pre style=\"white-space:pre;overflow-x:auto;line-height:normal;font-family:Menlo,'DejaVu Sans Mono',consolas,'Courier New',monospace\"><span style=\"font-weight: bold\">Model: \"functional\"</span>\n",
       "</pre>\n"
      ],
      "text/plain": [
       "\u001b[1mModel: \"functional\"\u001b[0m\n"
      ]
     },
     "metadata": {},
     "output_type": "display_data"
    },
    {
     "data": {
      "text/html": [
       "<pre style=\"white-space:pre;overflow-x:auto;line-height:normal;font-family:Menlo,'DejaVu Sans Mono',consolas,'Courier New',monospace\">┏━━━━━━━━━━━━━━━━━━━━━━━━━━━━━━━━━┳━━━━━━━━━━━━━━━━━━━━━━━━┳━━━━━━━━━━━━━━━┓\n",
       "┃<span style=\"font-weight: bold\"> Layer (type)                    </span>┃<span style=\"font-weight: bold\"> Output Shape           </span>┃<span style=\"font-weight: bold\">       Param # </span>┃\n",
       "┡━━━━━━━━━━━━━━━━━━━━━━━━━━━━━━━━━╇━━━━━━━━━━━━━━━━━━━━━━━━╇━━━━━━━━━━━━━━━┩\n",
       "│ input_layer (<span style=\"color: #0087ff; text-decoration-color: #0087ff\">InputLayer</span>)        │ (<span style=\"color: #00d7ff; text-decoration-color: #00d7ff\">None</span>, <span style=\"color: #00af00; text-decoration-color: #00af00\">115</span>, <span style=\"color: #00af00; text-decoration-color: #00af00\">10</span>)        │             <span style=\"color: #00af00; text-decoration-color: #00af00\">0</span> │\n",
       "├─────────────────────────────────┼────────────────────────┼───────────────┤\n",
       "│ bidirectional (<span style=\"color: #0087ff; text-decoration-color: #0087ff\">Bidirectional</span>)   │ (<span style=\"color: #00d7ff; text-decoration-color: #00d7ff\">None</span>, <span style=\"color: #00af00; text-decoration-color: #00af00\">115</span>, <span style=\"color: #00af00; text-decoration-color: #00af00\">256</span>)       │       <span style=\"color: #00af00; text-decoration-color: #00af00\">142,336</span> │\n",
       "├─────────────────────────────────┼────────────────────────┼───────────────┤\n",
       "│ dropout (<span style=\"color: #0087ff; text-decoration-color: #0087ff\">Dropout</span>)               │ (<span style=\"color: #00d7ff; text-decoration-color: #00d7ff\">None</span>, <span style=\"color: #00af00; text-decoration-color: #00af00\">115</span>, <span style=\"color: #00af00; text-decoration-color: #00af00\">256</span>)       │             <span style=\"color: #00af00; text-decoration-color: #00af00\">0</span> │\n",
       "├─────────────────────────────────┼────────────────────────┼───────────────┤\n",
       "│ lstm_1 (<span style=\"color: #0087ff; text-decoration-color: #0087ff\">LSTM</span>)                   │ (<span style=\"color: #00d7ff; text-decoration-color: #00d7ff\">None</span>, <span style=\"color: #00af00; text-decoration-color: #00af00\">64</span>)             │        <span style=\"color: #00af00; text-decoration-color: #00af00\">82,176</span> │\n",
       "├─────────────────────────────────┼────────────────────────┼───────────────┤\n",
       "│ dropout_1 (<span style=\"color: #0087ff; text-decoration-color: #0087ff\">Dropout</span>)             │ (<span style=\"color: #00d7ff; text-decoration-color: #00d7ff\">None</span>, <span style=\"color: #00af00; text-decoration-color: #00af00\">64</span>)             │             <span style=\"color: #00af00; text-decoration-color: #00af00\">0</span> │\n",
       "├─────────────────────────────────┼────────────────────────┼───────────────┤\n",
       "│ dense (<span style=\"color: #0087ff; text-decoration-color: #0087ff\">Dense</span>)                   │ (<span style=\"color: #00d7ff; text-decoration-color: #00d7ff\">None</span>, <span style=\"color: #00af00; text-decoration-color: #00af00\">128</span>)            │         <span style=\"color: #00af00; text-decoration-color: #00af00\">8,320</span> │\n",
       "├─────────────────────────────────┼────────────────────────┼───────────────┤\n",
       "│ batch_normalization             │ (<span style=\"color: #00d7ff; text-decoration-color: #00d7ff\">None</span>, <span style=\"color: #00af00; text-decoration-color: #00af00\">128</span>)            │           <span style=\"color: #00af00; text-decoration-color: #00af00\">512</span> │\n",
       "│ (<span style=\"color: #0087ff; text-decoration-color: #0087ff\">BatchNormalization</span>)            │                        │               │\n",
       "├─────────────────────────────────┼────────────────────────┼───────────────┤\n",
       "│ dropout_2 (<span style=\"color: #0087ff; text-decoration-color: #0087ff\">Dropout</span>)             │ (<span style=\"color: #00d7ff; text-decoration-color: #00d7ff\">None</span>, <span style=\"color: #00af00; text-decoration-color: #00af00\">128</span>)            │             <span style=\"color: #00af00; text-decoration-color: #00af00\">0</span> │\n",
       "├─────────────────────────────────┼────────────────────────┼───────────────┤\n",
       "│ dense_1 (<span style=\"color: #0087ff; text-decoration-color: #0087ff\">Dense</span>)                 │ (<span style=\"color: #00d7ff; text-decoration-color: #00d7ff\">None</span>, <span style=\"color: #00af00; text-decoration-color: #00af00\">9</span>)              │         <span style=\"color: #00af00; text-decoration-color: #00af00\">1,161</span> │\n",
       "└─────────────────────────────────┴────────────────────────┴───────────────┘\n",
       "</pre>\n"
      ],
      "text/plain": [
       "┏━━━━━━━━━━━━━━━━━━━━━━━━━━━━━━━━━┳━━━━━━━━━━━━━━━━━━━━━━━━┳━━━━━━━━━━━━━━━┓\n",
       "┃\u001b[1m \u001b[0m\u001b[1mLayer (type)                   \u001b[0m\u001b[1m \u001b[0m┃\u001b[1m \u001b[0m\u001b[1mOutput Shape          \u001b[0m\u001b[1m \u001b[0m┃\u001b[1m \u001b[0m\u001b[1m      Param #\u001b[0m\u001b[1m \u001b[0m┃\n",
       "┡━━━━━━━━━━━━━━━━━━━━━━━━━━━━━━━━━╇━━━━━━━━━━━━━━━━━━━━━━━━╇━━━━━━━━━━━━━━━┩\n",
       "│ input_layer (\u001b[38;5;33mInputLayer\u001b[0m)        │ (\u001b[38;5;45mNone\u001b[0m, \u001b[38;5;34m115\u001b[0m, \u001b[38;5;34m10\u001b[0m)        │             \u001b[38;5;34m0\u001b[0m │\n",
       "├─────────────────────────────────┼────────────────────────┼───────────────┤\n",
       "│ bidirectional (\u001b[38;5;33mBidirectional\u001b[0m)   │ (\u001b[38;5;45mNone\u001b[0m, \u001b[38;5;34m115\u001b[0m, \u001b[38;5;34m256\u001b[0m)       │       \u001b[38;5;34m142,336\u001b[0m │\n",
       "├─────────────────────────────────┼────────────────────────┼───────────────┤\n",
       "│ dropout (\u001b[38;5;33mDropout\u001b[0m)               │ (\u001b[38;5;45mNone\u001b[0m, \u001b[38;5;34m115\u001b[0m, \u001b[38;5;34m256\u001b[0m)       │             \u001b[38;5;34m0\u001b[0m │\n",
       "├─────────────────────────────────┼────────────────────────┼───────────────┤\n",
       "│ lstm_1 (\u001b[38;5;33mLSTM\u001b[0m)                   │ (\u001b[38;5;45mNone\u001b[0m, \u001b[38;5;34m64\u001b[0m)             │        \u001b[38;5;34m82,176\u001b[0m │\n",
       "├─────────────────────────────────┼────────────────────────┼───────────────┤\n",
       "│ dropout_1 (\u001b[38;5;33mDropout\u001b[0m)             │ (\u001b[38;5;45mNone\u001b[0m, \u001b[38;5;34m64\u001b[0m)             │             \u001b[38;5;34m0\u001b[0m │\n",
       "├─────────────────────────────────┼────────────────────────┼───────────────┤\n",
       "│ dense (\u001b[38;5;33mDense\u001b[0m)                   │ (\u001b[38;5;45mNone\u001b[0m, \u001b[38;5;34m128\u001b[0m)            │         \u001b[38;5;34m8,320\u001b[0m │\n",
       "├─────────────────────────────────┼────────────────────────┼───────────────┤\n",
       "│ batch_normalization             │ (\u001b[38;5;45mNone\u001b[0m, \u001b[38;5;34m128\u001b[0m)            │           \u001b[38;5;34m512\u001b[0m │\n",
       "│ (\u001b[38;5;33mBatchNormalization\u001b[0m)            │                        │               │\n",
       "├─────────────────────────────────┼────────────────────────┼───────────────┤\n",
       "│ dropout_2 (\u001b[38;5;33mDropout\u001b[0m)             │ (\u001b[38;5;45mNone\u001b[0m, \u001b[38;5;34m128\u001b[0m)            │             \u001b[38;5;34m0\u001b[0m │\n",
       "├─────────────────────────────────┼────────────────────────┼───────────────┤\n",
       "│ dense_1 (\u001b[38;5;33mDense\u001b[0m)                 │ (\u001b[38;5;45mNone\u001b[0m, \u001b[38;5;34m9\u001b[0m)              │         \u001b[38;5;34m1,161\u001b[0m │\n",
       "└─────────────────────────────────┴────────────────────────┴───────────────┘\n"
      ]
     },
     "metadata": {},
     "output_type": "display_data"
    },
    {
     "data": {
      "text/html": [
       "<pre style=\"white-space:pre;overflow-x:auto;line-height:normal;font-family:Menlo,'DejaVu Sans Mono',consolas,'Courier New',monospace\"><span style=\"font-weight: bold\"> Total params: </span><span style=\"color: #00af00; text-decoration-color: #00af00\">703,005</span> (2.68 MB)\n",
       "</pre>\n"
      ],
      "text/plain": [
       "\u001b[1m Total params: \u001b[0m\u001b[38;5;34m703,005\u001b[0m (2.68 MB)\n"
      ]
     },
     "metadata": {},
     "output_type": "display_data"
    },
    {
     "data": {
      "text/html": [
       "<pre style=\"white-space:pre;overflow-x:auto;line-height:normal;font-family:Menlo,'DejaVu Sans Mono',consolas,'Courier New',monospace\"><span style=\"font-weight: bold\"> Trainable params: </span><span style=\"color: #00af00; text-decoration-color: #00af00\">234,249</span> (915.04 KB)\n",
       "</pre>\n"
      ],
      "text/plain": [
       "\u001b[1m Trainable params: \u001b[0m\u001b[38;5;34m234,249\u001b[0m (915.04 KB)\n"
      ]
     },
     "metadata": {},
     "output_type": "display_data"
    },
    {
     "data": {
      "text/html": [
       "<pre style=\"white-space:pre;overflow-x:auto;line-height:normal;font-family:Menlo,'DejaVu Sans Mono',consolas,'Courier New',monospace\"><span style=\"font-weight: bold\"> Non-trainable params: </span><span style=\"color: #00af00; text-decoration-color: #00af00\">256</span> (1.00 KB)\n",
       "</pre>\n"
      ],
      "text/plain": [
       "\u001b[1m Non-trainable params: \u001b[0m\u001b[38;5;34m256\u001b[0m (1.00 KB)\n"
      ]
     },
     "metadata": {},
     "output_type": "display_data"
    },
    {
     "data": {
      "text/html": [
       "<pre style=\"white-space:pre;overflow-x:auto;line-height:normal;font-family:Menlo,'DejaVu Sans Mono',consolas,'Courier New',monospace\"><span style=\"font-weight: bold\"> Optimizer params: </span><span style=\"color: #00af00; text-decoration-color: #00af00\">468,500</span> (1.79 MB)\n",
       "</pre>\n"
      ],
      "text/plain": [
       "\u001b[1m Optimizer params: \u001b[0m\u001b[38;5;34m468,500\u001b[0m (1.79 MB)\n"
      ]
     },
     "metadata": {},
     "output_type": "display_data"
    }
   ],
   "source": [
    "optimizers = keras.optimizers.AdamW(learning_rate=1e-4, clipnorm=1.0)\n",
    "\n",
    "model.compile(\n",
    "    optimizer=optimizers,\n",
    "    loss=\"categorical_crossentropy\",\n",
    "    metrics=['accuracy']\n",
    ")\n",
    "\n",
    "history = model.fit(\n",
    "    X_train, Y_train, validation_data=(X_test, Y_test), batch_size=32, epochs=50\n",
    ")\n",
    "\n",
    "model.summary()"
   ]
  },
  {
   "cell_type": "code",
   "execution_count": 13,
   "id": "83d4764c-4b99-4f18-8bd0-61dc05a670f0",
   "metadata": {},
   "outputs": [
    {
     "name": "stdout",
     "output_type": "stream",
     "text": [
      "\u001b[1m190/190\u001b[0m \u001b[32m━━━━━━━━━━━━━━━━━━━━\u001b[0m\u001b[37m\u001b[0m \u001b[1m11s\u001b[0m 58ms/step - accuracy: 0.5398 - loss: 1.2340\n",
      "\u001b[1m48/48\u001b[0m \u001b[32m━━━━━━━━━━━━━━━━━━━━\u001b[0m\u001b[37m\u001b[0m \u001b[1m3s\u001b[0m 58ms/step - accuracy: 0.4575 - loss: 1.3546\n"
     ]
    },
    {
     "name": "stderr",
     "output_type": "stream",
     "text": [
      "WARNING:absl:You are saving your model as an HDF5 file via `model.save()` or `keras.saving.save_model(model)`. This file format is considered legacy. We recommend using instead the native Keras format, e.g. `model.save('my_model.keras')` or `keras.saving.save_model(model, 'my_model.keras')`. \n"
     ]
    },
    {
     "name": "stdout",
     "output_type": "stream",
     "text": [
      "The train accuracy 0.5379663109779358\n",
      "The test accuracy 0.4706270694732666\n"
     ]
    }
   ],
   "source": [
    "train_loss , train_accuracy = model.evaluate(X_train,Y_train)\n",
    "test_loss , test_accuracy = model.evaluate(X_test,Y_test)\n",
    "\n",
    "print(f\"The train accuracy {train_accuracy}\")\n",
    "print(f\"The test accuracy {test_accuracy}\")\n",
    "\n",
    "model.save(\"IMU_RNN_LSTM_variables_macrof1.h5\")"
   ]
  },
  {
   "cell_type": "code",
   "execution_count": null,
   "id": "1e8b099a-b5e2-4f70-b61c-ae7d858ec3c7",
   "metadata": {},
   "outputs": [],
   "source": []
  }
 ],
 "metadata": {
  "kernelspec": {
   "display_name": "Python 3 (ipykernel)",
   "language": "python",
   "name": "python3"
  },
  "language_info": {
   "codemirror_mode": {
    "name": "ipython",
    "version": 3
   },
   "file_extension": ".py",
   "mimetype": "text/x-python",
   "name": "python",
   "nbconvert_exporter": "python",
   "pygments_lexer": "ipython3",
   "version": "3.12.10"
  }
 },
 "nbformat": 4,
 "nbformat_minor": 5
}
