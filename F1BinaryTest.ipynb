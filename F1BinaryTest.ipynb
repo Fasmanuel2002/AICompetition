{
 "cells": [
  {
   "cell_type": "code",
   "execution_count": 4,
   "id": "4e7e734c-26b5-46e1-9374-b6c69e531bc1",
   "metadata": {},
   "outputs": [
    {
     "name": "stdout",
     "output_type": "stream",
     "text": [
      "IMU: (2, 115, 10) | Thm: (2, 115, 5) | ToF: (2, 64, 5) \n"
     ]
    },
    {
     "name": "stderr",
     "output_type": "stream",
     "text": [
      "2025-10-24 13:16:38.263960: W tensorflow/core/common_runtime/gpu/gpu_device.cc:2343] Cannot dlopen some GPU libraries. Please make sure the missing libraries mentioned above are installed properly if you would like to use GPU. Follow the guide at https://www.tensorflow.org/install/gpu for how to download and setup the required libraries for your platform.\n",
      "Skipping registering GPU devices...\n",
      "WARNING:absl:Compiled the loaded model, but the compiled metrics have yet to be built. `model.compile_metrics` will be empty until you train or evaluate the model.\n",
      "WARNING:absl:Compiled the loaded model, but the compiled metrics have yet to be built. `model.compile_metrics` will be empty until you train or evaluate the model.\n",
      "WARNING:absl:Compiled the loaded model, but the compiled metrics have yet to be built. `model.compile_metrics` will be empty until you train or evaluate the model.\n"
     ]
    },
    {
     "name": "stdout",
     "output_type": "stream",
     "text": [
      "  sequence_id  prob_target pred_label\n",
      "0  SEQ_000001     0.715126     Target\n",
      "1  SEQ_000011     0.881546     Target\n"
     ]
    }
   ],
   "source": [
    "import pandas as pd\n",
    "import numpy as np\n",
    "from keras.models import load_model\n",
    "from tensorflow.keras.preprocessing.sequence import pad_sequences\n",
    "import matplotlib.pyplot as plt\n",
    "import xgboost as xgb\n",
    "\n",
    "df_test = pd.read_csv(\"test_df_features.csv\")\n",
    "\n",
    "\n",
    "imu_cols_acceleration = [column for column in df_test.columns if column.startswith(\"acc_\")]\n",
    "imu_cols_rotation = [columns for columns in df_test.columns if columns.startswith(\"rot_\")]\n",
    "IMU_Cols = imu_cols_acceleration + imu_cols_rotation\n",
    "Thm_Cols = [c for c in df_test.columns if c.startswith(\"thm_\")]\n",
    "ToF_Cols = [c for c in df_test.columns if c.startswith(\"tof_\")][:5]\n",
    "#XGboost_cols = [\"subject\", \"orientation\", \"behavior\", \"phase\"]\n",
    "\n",
    "grouped = df_test.groupby(\"sequence_id\")\n",
    "X_IMU_list = [group[IMU_Cols].values for _, group in grouped]\n",
    "X_Thm_list = [group[Thm_Cols].values for _, group in grouped]\n",
    "X_ToF_list = [group[ToF_Cols].values for _, group in grouped]\n",
    "#X_XGboost_list = [group[XGboost_cols].values for _, group in grouped]\n",
    "sequence_ids = list(grouped.groups.keys())\n",
    "\n",
    "\n",
    "X_IMU = pad_sequences(X_IMU_list, maxlen=115, dtype='float32', padding='post', truncating='post')\n",
    "X_Thm = pad_sequences(X_Thm_list, maxlen=115, dtype='float32', padding='post', truncating='post')\n",
    "X_ToF = pad_sequences(X_ToF_list, maxlen=64, dtype='float32', padding='post', truncating='post')\n",
    "#X_XGboost = pad_sequences(X_XGboost_list, dtype='float32', padding='post', truncating='post')\n",
    "print(f\"IMU: {X_IMU.shape} | Thm: {X_Thm.shape} | ToF: {X_ToF.shape} \")\n",
    "\n",
    "\n",
    "model_imu = load_model(\"IMU_RNN_LSTM_variables.h5\")\n",
    "model_tof = load_model(\"Tofs_CNN.h5\")\n",
    "model_thm = load_model(\"THM_RNN_LSTM.h5\")\n",
    "\n",
    "#xgb_model = xgb.XGBClassifier()\n",
    "#xgb_model.load_model(\"XGBoost_variables.json\")\n",
    "\n",
    "pred_imu_all = model_imu.predict(X_IMU, verbose=0)\n",
    "pred_tof_all = model_tof.predict(X_ToF, verbose=0)\n",
    "pred_thm_all = model_thm.predict(X_Thm, verbose=0)\n",
    "#pred_xgb_all = xgb_model_predict(X_XGboost)\n",
    "\n",
    "\n",
    "weighted_pred = 0.4 * pred_imu_all + 0.4 * pred_tof_all + 0.2 * pred_thm_all\n",
    "weighted_pred = weighted_pred / np.sum(weighted_pred, axis=1, keepdims=True)\n",
    "\n",
    "\n",
    "prob_target = [float(p[1]) for p in weighted_pred]\n",
    "pred_label = [\"Target\" if p > 0.5 else \"Non-Target\" for p in prob_target]\n",
    "\n",
    "\n",
    "results = pd.DataFrame({\n",
    "    \"sequence_id\": sequence_ids,\n",
    "    \"prob_target\": prob_target,\n",
    "    \"pred_label\": pred_label\n",
    "})\n",
    "\n",
    "print(results.head())\n",
    "\n"
   ]
  },
  {
   "cell_type": "code",
   "execution_count": null,
   "id": "ddc15f53-7cc0-48e1-8b49-b01b637213c4",
   "metadata": {},
   "outputs": [],
   "source": []
  },
  {
   "cell_type": "code",
   "execution_count": null,
   "id": "5a0ccebe-df8d-4f15-81d6-cbb573d5f2a4",
   "metadata": {},
   "outputs": [],
   "source": []
  }
 ],
 "metadata": {
  "kernelspec": {
   "display_name": "Python 3 (ipykernel)",
   "language": "python",
   "name": "python3"
  },
  "language_info": {
   "codemirror_mode": {
    "name": "ipython",
    "version": 3
   },
   "file_extension": ".py",
   "mimetype": "text/x-python",
   "name": "python",
   "nbconvert_exporter": "python",
   "pygments_lexer": "ipython3",
   "version": "3.12.10"
  }
 },
 "nbformat": 4,
 "nbformat_minor": 5
}
